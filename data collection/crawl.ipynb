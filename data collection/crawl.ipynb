{
 "cells": [
  {
   "cell_type": "markdown",
   "metadata": {},
   "source": [
    "#### Data collection"
   ]
  },
  {
   "cell_type": "markdown",
   "metadata": {},
   "source": [
    "##### Previous plan: collect data with python crawler\n",
    "\n",
    "reference: https://mofanpy.com/tutorials/data-manipulation/scraping/"
   ]
  },
  {
   "cell_type": "code",
   "execution_count": 1,
   "metadata": {},
   "outputs": [
    {
     "name": "stdout",
     "output_type": "stream",
     "text": [
      "b'<!DOCTYPE html><html lang=\"en\"><head><meta name=\"viewport\" content=\"width=device-width\"/><meta charSet=\"utf-8\"/><script>!function(){try {var d=document.documentElement.classList;d.remove(\\'light\\',\\'dark'\n"
     ]
    }
   ],
   "source": [
    "import requests\n",
    "\n",
    "# 别开vpn\n",
    "response = requests.get(\"https://leetcode.cn/problemset/all/\")\n",
    "\n",
    "print(response.content[:200])"
   ]
  },
  {
   "cell_type": "markdown",
   "metadata": {},
   "source": [
    "##### Solution: F12 - Web Developer tool\n",
    "> Through F12, the request of `https://leetcode.cn/graphql/` is found\n",
    "> \n",
    "> <img src=\"../appendix/request_format.png\">\n",
    "> \n",
    "> Failed try: Using `Postman`, it's hard to define correct cookie and strange CSRF params...\n",
    "> \n",
    "> Solution: copy json from `Developer tool`...easy and efficient...\n",
    "> \n",
    "> <img src=\"../appendix/response_format.png\">\n"
   ]
  }
 ],
 "metadata": {
  "interpreter": {
   "hash": "e21076ffdaa163e8d2e74457df8e93dcf29009f5375889b47c704d9431678e13"
  },
  "kernelspec": {
   "display_name": "Python 3.9.7 ('base')",
   "language": "python",
   "name": "python3"
  },
  "language_info": {
   "codemirror_mode": {
    "name": "ipython",
    "version": 3
   },
   "file_extension": ".py",
   "mimetype": "text/x-python",
   "name": "python",
   "nbconvert_exporter": "python",
   "pygments_lexer": "ipython3",
   "version": "3.9.7"
  },
  "orig_nbformat": 4
 },
 "nbformat": 4,
 "nbformat_minor": 2
}
